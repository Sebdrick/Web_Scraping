{
 "cells": [
  {
   "cell_type": "markdown",
   "id": "fca8985b-c45c-454f-82ac-483297f6f67b",
   "metadata": {},
   "source": [
    "# Web Scraping a una Tienda en Línea"
   ]
  },
  {
   "cell_type": "markdown",
   "id": "2d845989-31ca-443f-ace1-8a2f164df24f",
   "metadata": {},
   "source": [
    "El objetivo de este proyecto es realizar web scraping de la tienda en línea Alkosto, recopilando información pública disponible, como precios, descripciones de productos y categorías, con fines de análisis y estudio."
   ]
  },
  {
   "cell_type": "markdown",
   "id": "28556c0b-5fd5-4622-87f3-9b7785b14711",
   "metadata": {},
   "source": [
    "## Importaciones"
   ]
  },
  {
   "cell_type": "code",
   "execution_count": 3,
   "id": "15eb6626-d65f-4bfb-a5d8-3e11381e6f26",
   "metadata": {},
   "outputs": [],
   "source": [
    "from selenium import webdriver\n",
    "from selenium.webdriver.common.by import By\n",
    "from selenium.common.exceptions import NoSuchElementException\n",
    "import pandas as pd"
   ]
  },
  {
   "cell_type": "code",
   "execution_count": 4,
   "id": "a240340a-fe6b-4a60-9341-42644d04cd4d",
   "metadata": {},
   "outputs": [],
   "source": [
    "driver = webdriver.Chrome()"
   ]
  },
  {
   "cell_type": "code",
   "execution_count": 5,
   "id": "f1b07e7f-e201-4738-aa67-af094fb0eb70",
   "metadata": {},
   "outputs": [],
   "source": [
    "url = 'https://www.alkosto.com/search/?text=videojuegos'\n",
    "driver.get(url)"
   ]
  },
  {
   "cell_type": "code",
   "execution_count": 6,
   "id": "6202eaff-a00c-477a-b65c-a2f006714beb",
   "metadata": {},
   "outputs": [],
   "source": [
    "li_elements = driver.find_elements(By.CSS_SELECTOR, '#js-hits li')\n",
    "data = []"
   ]
  },
  {
   "cell_type": "code",
   "execution_count": 7,
   "id": "074ac03e-edd2-4aec-9390-ab1bc8902ae0",
   "metadata": {},
   "outputs": [],
   "source": [
    "for element in li_elements:\n",
    "    try:\n",
    "        titulo_element = element.find_element(By.TAG_NAME,'h3')\n",
    "        precio_element = element.find_element(By.CLASS_NAME,'price')\n",
    "        imagen_element = element.find_element(By.TAG_NAME,'img').get_attribute('src')\n",
    "        data.append({\n",
    "            'Titulo': titulo_element.text,\n",
    "            'Precio': precio_element.text,\n",
    "            'Imagen': imagen_element\n",
    "        })\n",
    "    except NoSuchElementException:\n",
    "        pass"
   ]
  },
  {
   "cell_type": "markdown",
   "id": "5a5c441d-7e1c-4925-bc3e-c9ce36db9557",
   "metadata": {},
   "source": [
    "# Guardado de datos"
   ]
  },
  {
   "cell_type": "code",
   "execution_count": 8,
   "id": "e0aab7bc-35b6-467c-b98b-a9b93334aa35",
   "metadata": {},
   "outputs": [],
   "source": [
    "df = pd.DataFrame(data)\n",
    "df.to_csv('Videojuegos.csv')"
   ]
  },
  {
   "cell_type": "code",
   "execution_count": 9,
   "id": "1748d579-7505-4aa9-aa79-754e6c1b4440",
   "metadata": {},
   "outputs": [],
   "source": [
    "driver.quit()"
   ]
  }
 ],
 "metadata": {
  "kernelspec": {
   "display_name": "Python 3 (ipykernel)",
   "language": "python",
   "name": "python3"
  },
  "language_info": {
   "codemirror_mode": {
    "name": "ipython",
    "version": 3
   },
   "file_extension": ".py",
   "mimetype": "text/x-python",
   "name": "python",
   "nbconvert_exporter": "python",
   "pygments_lexer": "ipython3",
   "version": "3.12.0"
  }
 },
 "nbformat": 4,
 "nbformat_minor": 5
}
